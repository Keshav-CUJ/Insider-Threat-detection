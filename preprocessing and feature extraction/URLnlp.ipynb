{
 "cells": [
  {
   "cell_type": "code",
   "execution_count": 1,
   "metadata": {},
   "outputs": [],
   "source": [
    "import pandas as pd\n",
    "import numpy as np\n",
    "import torch\n",
    "from gensim.models import Word2Vec\n",
    "from nltk.tokenize import word_tokenize\n",
    "from tqdm import tqdm\n"
   ]
  },
  {
   "cell_type": "code",
   "execution_count": 2,
   "metadata": {},
   "outputs": [],
   "source": [
    "# Load URL Data\n",
    "http_df = pd.read_csv(\"./processed_http.csv\", usecols=[\"url\"])  # Load only necessary columns\n",
    "\n",
    "# Preprocess URLs (Tokenization)\n",
    "http_df[\"tokenized_url\"] = http_df[\"url\"].astype(str).apply(lambda x: word_tokenize(x.replace(\".\", \" \").replace(\"/\", \" \")))\n",
    "\n",
    "# Save Tokenized URLs as List\n",
    "tokenized_urls = http_df[\"tokenized_url\"].tolist()\n"
   ]
  },
  {
   "cell_type": "code",
   "execution_count": 3,
   "metadata": {},
   "outputs": [
    {
     "name": "stderr",
     "output_type": "stream",
     "text": [
      "C:\\Users\\bkesh\\AppData\\Local\\Temp\\ipykernel_9752\\2485690671.py:5: DeprecationWarning: Call to deprecated `init_sims` (Gensim 4.0.0 implemented internal optimizations that make calls to init_sims() unnecessary. init_sims() is now obsoleted and will be completely removed in future versions. See https://github.com/RaRe-Technologies/gensim/wiki/Migrating-from-Gensim-3.x-to-4).\n",
      "  w2v_model.init_sims(replace=True)  # Reduces memory usage, speeds up lookup\n"
     ]
    }
   ],
   "source": [
    "# Train Word2Vec Model on URLs\n",
    "w2v_model = Word2Vec(sentences=tokenized_urls, vector_size=100, window=5, min_count=1, workers=4)\n",
    "\n",
    "# Optimize Word2Vec for Faster Inference\n",
    "w2v_model.init_sims(replace=True)  # Reduces memory usage, speeds up lookup\n",
    "\n"
   ]
  },
  {
   "cell_type": "code",
   "execution_count": null,
   "metadata": {},
   "outputs": [
    {
     "name": "stderr",
     "output_type": "stream",
     "text": [
      "Processing URLs in Batches: 100%|██████████| 5687/5687 [26:05<00:00,  3.63batch/s]"
     ]
    },
    {
     "name": "stdout",
     "output_type": "stream",
     "text": [
      "✅ URL embeddings successfully computed & saved in batches!\n"
     ]
    },
    {
     "name": "stderr",
     "output_type": "stream",
     "text": [
      "\n"
     ]
    }
   ],
   "source": [
    "\n",
    "# Move Word2Vec Model to CPU (Word2Vec is CPU-bound)\n",
    "device = torch.device(\"cuda\" if torch.cuda.is_available() else \"cpu\")\n",
    "\n",
    "# Batch Processing with Direct Disk Writing\n",
    "batch_size = 5000\n",
    "output_file = \"url_embeddings.npy\"\n",
    "\n",
    "for batch_index, i in enumerate(tqdm(range(0, len(tokenized_urls), batch_size), desc=\"Processing URLs in Batches\", unit=\"batch\")):\n",
    "    batch_tokens = tokenized_urls[i : i + batch_size]\n",
    "    \n",
    "    batch_embeddings = []\n",
    "    for tokens in batch_tokens:\n",
    "        vectors = [w2v_model.wv[word] for word in tokens if word in w2v_model.wv]\n",
    "        embedding = np.mean(vectors, axis=0) if vectors else np.zeros(100)\n",
    "        batch_embeddings.append(embedding)\n",
    "    \n",
    "    # Convert to PyTorch Tensor & Move to GPU\n",
    "    batch_embeddings = torch.tensor(np.array(batch_embeddings), dtype=torch.float32).to(device)\n",
    "\n",
    "    # Move Back to CPU & Save Batch to Disk\n",
    "    np.save(f\"url_embeddings_batch_{batch_index}.npy\", batch_embeddings.cpu().numpy())\n",
    "\n",
    "print(\"✅ URL embeddings successfully computed & saved in batches!\")\n"
   ]
  }
 ],
 "metadata": {
  "kernelspec": {
   "display_name": "tf",
   "language": "python",
   "name": "python3"
  },
  "language_info": {
   "codemirror_mode": {
    "name": "ipython",
    "version": 3
   },
   "file_extension": ".py",
   "mimetype": "text/x-python",
   "name": "python",
   "nbconvert_exporter": "python",
   "pygments_lexer": "ipython3",
   "version": "3.9.19"
  }
 },
 "nbformat": 4,
 "nbformat_minor": 2
}
