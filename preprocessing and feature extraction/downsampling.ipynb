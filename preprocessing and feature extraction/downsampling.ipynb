{
 "cells": [
  {
   "cell_type": "code",
   "execution_count": 2,
   "metadata": {},
   "outputs": [
    {
     "name": "stdout",
     "output_type": "stream",
     "text": [
      "✅ Found 1000 unique users in the dataset.\n"
     ]
    }
   ],
   "source": [
    "import pandas as pd\n",
    "\n",
    "# List of CSV Files Containing Users\n",
    "csv_files = [\"processed_logon.csv\", \"processed_device.csv\", \"processed_http.csv\", \"final_email.csv\", \"processed_file.csv\"]\n",
    "\n",
    "# Extract Unique Users from All CSVs\n",
    "all_users = set()\n",
    "for file in csv_files:\n",
    "    df = pd.read_csv(file, usecols=[\"user\"])  # Load only the 'user' column\n",
    "    all_users.update(df[\"user\"].unique())  # Add unique users to the set\n",
    "\n",
    "# Convert to Sorted List\n",
    "all_users = sorted(list(all_users))\n",
    "\n",
    "print(f\"✅ Found {len(all_users)} unique users in the dataset.\")\n"
   ]
  },
  {
   "cell_type": "code",
   "execution_count": 3,
   "metadata": {},
   "outputs": [
    {
     "name": "stdout",
     "output_type": "stream",
     "text": [
      "✅ Keeping 70 anomalous users and 350 benign users\n"
     ]
    }
   ],
   "source": [
    "# 📌 Replace this list with your real anomalous users (Example List)\n",
    "anomalous_users = [\n",
    "    \"AAM0658\", \"AJR0932\", \"BDV0168\", \"BIH0745\", \"BLS0678\", \"BTL0226\", \"CAH0936\",\n",
    "    \"DCH0843\", \"EHB0824\", \"EHD0584\", \"FMG0527\", \"FTM0406\", \"GHL0460\", \"HJB0742\",\n",
    "    \"JMB0308\", \"JRG0207\", \"KLH0596\", \"KPC0073\", \"LJR0523\", \"LQC0479\", \"MAR0955\",\n",
    "    \"MAS0025\", \"MCF0600\", \"MYD0978\", \"PPF0435\", \"RAB0589\", \"RGG0064\", \"RKD0604\",\n",
    "    \"TAP0551\", \"WDD0366\", \"AAF0535\", \"ABC0174\", \"AKR0057\", \"CCL0068\", \"CEJ0109\",\n",
    "    \"CQW0652\", \"DIB0285\", \"DRR0162\", \"EDB0714\", \"EGD0132\", \"FSC0601\", \"HBO0413\",\n",
    "    \"HXL0968\", \"IJM0776\", \"IKR0401\", \"IUB0565\", \"JJM0203\", \"KRL0501\", \"LCC0819\",\n",
    "    \"MDH0580\", \"MOS0047\", \"NWT0098\", \"PNL0301\", \"PSF0133\", \"RAR0725\", \"RHL0992\",\n",
    "    \"RMW0542\", \"TNM0961\", \"VSS0154\", \"XHW0498\", \"BBS0039\", \"BSS0369\", \"CCA0046\",\n",
    "    \"CSC0217\", \"GTD0219\", \"JGT0221\", \"JLM0364\", \"JTM0223\", \"MPM0220\", \"MSO0222\"\n",
    "]\n",
    "\n",
    "\n",
    "\n",
    "\n",
    "# Extract Benign Users (Users NOT in the Anomalous List)\n",
    "benign_users = [user for user in all_users if user not in anomalous_users]\n",
    "\n",
    "# Downsample Benign Users to Keep Only 350\n",
    "benign_downsampled = pd.Series(benign_users).sample(n=350, random_state=42).tolist()\n",
    "\n",
    "print(f\"✅ Keeping {len(anomalous_users)} anomalous users and {len(benign_downsampled)} benign users\")\n"
   ]
  },
  {
   "cell_type": "code",
   "execution_count": 4,
   "metadata": {},
   "outputs": [
    {
     "name": "stdout",
     "output_type": "stream",
     "text": [
      "🔹 Processing processed_logon.csv...\n",
      "✅ Saved downsampled version: downsampled_processed_logon.csv\n",
      "🔹 Processing processed_device.csv...\n",
      "✅ Saved downsampled version: downsampled_processed_device.csv\n",
      "🔹 Processing processed_http.csv...\n",
      "✅ Saved downsampled version: downsampled_processed_http.csv\n",
      "🔹 Processing final_email.csv...\n",
      "✅ Saved downsampled version: downsampled_final_email.csv\n",
      "🔹 Processing processed_file.csv...\n",
      "✅ Saved downsampled version: downsampled_processed_file.csv\n",
      "🎉 All CSVs downsampled successfully!\n"
     ]
    }
   ],
   "source": [
    "# Users to Keep (Anomalous Users + Selected Benign Users)\n",
    "selected_users = set(anomalous_users).union(set(benign_downsampled))\n",
    "\n",
    "# Downsample Each CSV\n",
    "for file in csv_files:\n",
    "    print(f\"🔹 Processing {file}...\")\n",
    "\n",
    "    # Load Data\n",
    "    df = pd.read_csv(file)\n",
    "\n",
    "    # Filter to Keep Only Selected Users\n",
    "    df = df[df[\"user\"].isin(selected_users)]\n",
    "\n",
    "    # Save Downsampled CSV\n",
    "    df.to_csv(f\"downsampled_{file}\", index=False)\n",
    "\n",
    "    print(f\"✅ Saved downsampled version: downsampled_{file}\")\n",
    "\n",
    "print(\"🎉 All CSVs downsampled successfully!\")\n"
   ]
  },
  {
   "cell_type": "code",
   "execution_count": 5,
   "metadata": {},
   "outputs": [
    {
     "name": "stdout",
     "output_type": "stream",
     "text": [
      "✅ Saved list of downsampled users: downsampled_users.csv\n"
     ]
    }
   ],
   "source": [
    "# Save Selected Users to a CSV for Reference\n",
    "downsampled_users_df = pd.DataFrame({\"user\": list(selected_users)})\n",
    "downsampled_users_df.to_csv(\"downsampled_users.csv\", index=False)\n",
    "\n",
    "print(f\"✅ Saved list of downsampled users: downsampled_users.csv\")\n"
   ]
  }
 ],
 "metadata": {
  "kernelspec": {
   "display_name": "tf",
   "language": "python",
   "name": "python3"
  },
  "language_info": {
   "codemirror_mode": {
    "name": "ipython",
    "version": 3
   },
   "file_extension": ".py",
   "mimetype": "text/x-python",
   "name": "python",
   "nbconvert_exporter": "python",
   "pygments_lexer": "ipython3",
   "version": "3.9.19"
  }
 },
 "nbformat": 4,
 "nbformat_minor": 2
}
